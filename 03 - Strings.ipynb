{
 "cells": [
  {
   "cell_type": "markdown",
   "id": "9c4a8223",
   "metadata": {},
   "source": [
    "### Strings are sequence of Characters\n",
    "\n",
    "In Python specifically, strings are a sequence of Unicode Characters\n",
    "\n",
    "- Creating Strings\n",
    "- Accessing Strings\n",
    "- Adding Chars to Strings\n",
    "- Editing Strings\n",
    "- Deleting Strings\n",
    "- Operations on Strings\n",
    "- String Functions"
   ]
  },
  {
   "cell_type": "markdown",
   "id": "814b1001",
   "metadata": {},
   "source": [
    "### Creating Strings"
   ]
  },
  {
   "cell_type": "code",
   "execution_count": 1,
   "id": "5b1fb99a",
   "metadata": {},
   "outputs": [
    {
     "name": "stdout",
     "output_type": "stream",
     "text": [
      "Hello\n",
      "Heyyy\n",
      "HI THERE...!!!\n",
      "Yo yooooooooo\n",
      "kya haal chaal\n",
      "\n"
     ]
    }
   ],
   "source": [
    "a='Hello'\n",
    "b=\"Heyyy\"\n",
    "\n",
    "# for multilines strings\n",
    "c='''HI THERE...!!!'''\n",
    "d=\"\"\"Yo yooooooooo\n",
    "kya haal chaal\n",
    "\"\"\"\n",
    "\n",
    "print(a)\n",
    "print(b)\n",
    "print(c)\n",
    "print(d)"
   ]
  },
  {
   "cell_type": "markdown",
   "id": "c373e22e",
   "metadata": {},
   "source": [
    "##### Why we have `' '` and `\" \"` commas??"
   ]
  },
  {
   "cell_type": "code",
   "execution_count": 2,
   "id": "4cfba362",
   "metadata": {},
   "outputs": [
    {
     "ename": "SyntaxError",
     "evalue": "invalid syntax (Temp/ipykernel_1964/2873173798.py, line 2)",
     "output_type": "error",
     "traceback": [
      "\u001b[1;36m  File \u001b[1;32m\"C:\\Users\\anujb\\AppData\\Local\\Temp/ipykernel_1964/2873173798.py\"\u001b[1;36m, line \u001b[1;32m2\u001b[0m\n\u001b[1;33m    'It's raning outside'\u001b[0m\n\u001b[1;37m        ^\u001b[0m\n\u001b[1;31mSyntaxError\u001b[0m\u001b[1;31m:\u001b[0m invalid syntax\n"
     ]
    }
   ],
   "source": [
    "# using \" \" in some cases\n",
    "'It's raning outside'"
   ]
  },
  {
   "cell_type": "code",
   "execution_count": 3,
   "id": "d2143248",
   "metadata": {},
   "outputs": [
    {
     "data": {
      "text/plain": [
       "\"It's raning outside\""
      ]
     },
     "execution_count": 3,
     "metadata": {},
     "output_type": "execute_result"
    }
   ],
   "source": [
    "# using \" \"\n",
    "\"It's raning outside\""
   ]
  },
  {
   "cell_type": "code",
   "execution_count": 4,
   "id": "ef9b3414",
   "metadata": {},
   "outputs": [
    {
     "data": {
      "text/plain": [
       "'Hello'"
      ]
     },
     "execution_count": 4,
     "metadata": {},
     "output_type": "execute_result"
    }
   ],
   "source": [
    "# str\n",
    "x = str('Hello')\n",
    "x"
   ]
  },
  {
   "cell_type": "markdown",
   "id": "7997006d",
   "metadata": {},
   "source": [
    "### Accessing Substrings from a string"
   ]
  },
  {
   "cell_type": "code",
   "execution_count": 5,
   "id": "b801b6c4",
   "metadata": {},
   "outputs": [
    {
     "name": "stdout",
     "output_type": "stream",
     "text": [
      "H\n",
      "e\n",
      "o\n"
     ]
    }
   ],
   "source": [
    "# indexing\n",
    "\n",
    "# each character in the string in assigned as a Index which starts from the 0\n",
    "\n",
    "# POSITIVE INDEXING\n",
    "\n",
    "a=\"Hello World\"\n",
    "print(a[0])\n",
    "print(a[1])\n",
    "print(a[4])\n",
    "# a[41] : index is present"
   ]
  },
  {
   "cell_type": "code",
   "execution_count": 6,
   "id": "8aed3780",
   "metadata": {},
   "outputs": [
    {
     "name": "stdout",
     "output_type": "stream",
     "text": [
      "d\n",
      "l\n",
      "r\n"
     ]
    }
   ],
   "source": [
    "# NEGATIVE INDEXING --> -1 is assigned to last character : fetching out the last or second charater\n",
    "\n",
    "print(a[-1])\n",
    "print(a[-2])\n",
    "print(a[-3])"
   ]
  },
  {
   "cell_type": "markdown",
   "id": "5f3e1e54",
   "metadata": {},
   "source": [
    "### Slicing\n",
    "- Substring"
   ]
  },
  {
   "cell_type": "code",
   "execution_count": 7,
   "id": "840cb403",
   "metadata": {},
   "outputs": [
    {
     "data": {
      "text/plain": [
       "'Hello'"
      ]
     },
     "execution_count": 7,
     "metadata": {},
     "output_type": "execute_result"
    }
   ],
   "source": [
    "a[0:5] # [ inclusive:exclusive ]"
   ]
  },
  {
   "cell_type": "code",
   "execution_count": 8,
   "id": "ba321522",
   "metadata": {},
   "outputs": [
    {
     "data": {
      "text/plain": [
       "'Hl'"
      ]
     },
     "execution_count": 8,
     "metadata": {},
     "output_type": "execute_result"
    }
   ],
   "source": [
    "# stepsize\n",
    "\n",
    "a[0:6:3]"
   ]
  },
  {
   "cell_type": "code",
   "execution_count": 9,
   "id": "d2f1807a",
   "metadata": {},
   "outputs": [
    {
     "data": {
      "text/plain": [
       "'dlroW olleH'"
      ]
     },
     "execution_count": 9,
     "metadata": {},
     "output_type": "execute_result"
    }
   ],
   "source": [
    "# reverse a string in one line\n",
    "a[::-1]"
   ]
  },
  {
   "cell_type": "code",
   "execution_count": 10,
   "id": "c31ced36",
   "metadata": {},
   "outputs": [
    {
     "data": {
      "text/plain": [
       "'Hello World'"
      ]
     },
     "execution_count": 10,
     "metadata": {},
     "output_type": "execute_result"
    }
   ],
   "source": [
    "a"
   ]
  },
  {
   "cell_type": "code",
   "execution_count": 11,
   "id": "420f0873",
   "metadata": {},
   "outputs": [
    {
     "name": "stdout",
     "output_type": "stream",
     "text": [
      "World\n",
      "dlroW\n"
     ]
    }
   ],
   "source": [
    "# Negative index slicing\n",
    "\n",
    "print(a[-5:])\n",
    "\n",
    "print(a[-1:-6:-1])"
   ]
  },
  {
   "cell_type": "code",
   "execution_count": 12,
   "id": "dba9d7ad",
   "metadata": {},
   "outputs": [
    {
     "name": "stdout",
     "output_type": "stream",
     "text": [
      "W olleH\n"
     ]
    }
   ],
   "source": [
    "print(a[-5::-1])"
   ]
  },
  {
   "cell_type": "markdown",
   "id": "5d50fd28",
   "metadata": {},
   "source": [
    "### Editing and Deleting the String"
   ]
  },
  {
   "cell_type": "code",
   "execution_count": 13,
   "id": "6ce35326",
   "metadata": {},
   "outputs": [
    {
     "data": {
      "text/plain": [
       "'Hello World'"
      ]
     },
     "execution_count": 13,
     "metadata": {},
     "output_type": "execute_result"
    }
   ],
   "source": [
    "a"
   ]
  },
  {
   "cell_type": "code",
   "execution_count": 14,
   "id": "938b630b",
   "metadata": {},
   "outputs": [
    {
     "ename": "TypeError",
     "evalue": "'str' object does not support item assignment",
     "output_type": "error",
     "traceback": [
      "\u001b[1;31m---------------------------------------------------------------------------\u001b[0m",
      "\u001b[1;31mTypeError\u001b[0m                                 Traceback (most recent call last)",
      "\u001b[1;32m~\\AppData\\Local\\Temp/ipykernel_1964/2022134125.py\u001b[0m in \u001b[0;36m<module>\u001b[1;34m\u001b[0m\n\u001b[0;32m      1\u001b[0m \u001b[1;31m# editing\u001b[0m\u001b[1;33m\u001b[0m\u001b[1;33m\u001b[0m\u001b[0m\n\u001b[0;32m      2\u001b[0m \u001b[1;33m\u001b[0m\u001b[0m\n\u001b[1;32m----> 3\u001b[1;33m \u001b[0ma\u001b[0m\u001b[1;33m[\u001b[0m\u001b[1;36m0\u001b[0m\u001b[1;33m]\u001b[0m\u001b[1;33m=\u001b[0m\u001b[1;34m'h'\u001b[0m\u001b[1;33m\u001b[0m\u001b[1;33m\u001b[0m\u001b[0m\n\u001b[0m\u001b[0;32m      4\u001b[0m \u001b[1;33m\u001b[0m\u001b[0m\n\u001b[0;32m      5\u001b[0m \u001b[1;31m# Python strings are immutable : They cannot change once they formed\u001b[0m\u001b[1;33m\u001b[0m\u001b[1;33m\u001b[0m\u001b[0m\n",
      "\u001b[1;31mTypeError\u001b[0m: 'str' object does not support item assignment"
     ]
    }
   ],
   "source": [
    "# editing\n",
    "\n",
    "a[0]='h'\n",
    "\n",
    "# Python strings are immutable : They cannot change once they formed"
   ]
  },
  {
   "cell_type": "code",
   "execution_count": 15,
   "id": "02f79f22",
   "metadata": {},
   "outputs": [],
   "source": [
    "# delete a string\n",
    "\n",
    "del(a)"
   ]
  },
  {
   "cell_type": "code",
   "execution_count": 16,
   "id": "d022c796",
   "metadata": {},
   "outputs": [
    {
     "ename": "NameError",
     "evalue": "name 'a' is not defined",
     "output_type": "error",
     "traceback": [
      "\u001b[1;31m---------------------------------------------------------------------------\u001b[0m",
      "\u001b[1;31mNameError\u001b[0m                                 Traceback (most recent call last)",
      "\u001b[1;32m~\\AppData\\Local\\Temp/ipykernel_1964/2167009006.py\u001b[0m in \u001b[0;36m<module>\u001b[1;34m\u001b[0m\n\u001b[1;32m----> 1\u001b[1;33m \u001b[0ma\u001b[0m\u001b[1;33m\u001b[0m\u001b[1;33m\u001b[0m\u001b[0m\n\u001b[0m",
      "\u001b[1;31mNameError\u001b[0m: name 'a' is not defined"
     ]
    }
   ],
   "source": [
    "a"
   ]
  },
  {
   "cell_type": "code",
   "execution_count": 17,
   "id": "85c7ca1e",
   "metadata": {},
   "outputs": [
    {
     "ename": "TypeError",
     "evalue": "'str' object does not support item deletion",
     "output_type": "error",
     "traceback": [
      "\u001b[1;31m---------------------------------------------------------------------------\u001b[0m",
      "\u001b[1;31mTypeError\u001b[0m                                 Traceback (most recent call last)",
      "\u001b[1;32m~\\AppData\\Local\\Temp/ipykernel_1964/266792670.py\u001b[0m in \u001b[0;36m<module>\u001b[1;34m\u001b[0m\n\u001b[0;32m      1\u001b[0m \u001b[0ms\u001b[0m \u001b[1;33m=\u001b[0m \u001b[1;34m'hello world'\u001b[0m\u001b[1;33m\u001b[0m\u001b[1;33m\u001b[0m\u001b[0m\n\u001b[1;32m----> 2\u001b[1;33m \u001b[1;32mdel\u001b[0m \u001b[0ms\u001b[0m\u001b[1;33m[\u001b[0m\u001b[1;33m-\u001b[0m\u001b[1;36m1\u001b[0m\u001b[1;33m:\u001b[0m\u001b[1;33m-\u001b[0m\u001b[1;36m5\u001b[0m\u001b[1;33m:\u001b[0m\u001b[1;36m2\u001b[0m\u001b[1;33m]\u001b[0m\u001b[1;33m\u001b[0m\u001b[1;33m\u001b[0m\u001b[0m\n\u001b[0m\u001b[0;32m      3\u001b[0m \u001b[0mprint\u001b[0m\u001b[1;33m(\u001b[0m\u001b[0ms\u001b[0m\u001b[1;33m)\u001b[0m\u001b[1;33m\u001b[0m\u001b[1;33m\u001b[0m\u001b[0m\n",
      "\u001b[1;31mTypeError\u001b[0m: 'str' object does not support item deletion"
     ]
    }
   ],
   "source": [
    "s = 'hello world'\n",
    "del s[-1:-5:2]\n",
    "print(s)"
   ]
  },
  {
   "cell_type": "markdown",
   "id": "81a55123",
   "metadata": {},
   "source": [
    "## Operations on Strings\n",
    "\n",
    "- Arithmetic Operations\n",
    "- Relational Operations\n",
    "- Logical Operations\n",
    "- Loops on Strings\n",
    "- Membership Operations"
   ]
  },
  {
   "cell_type": "code",
   "execution_count": 18,
   "id": "fa6b5e5d",
   "metadata": {},
   "outputs": [
    {
     "name": "stdout",
     "output_type": "stream",
     "text": [
      "DelhiMumbai\n",
      "Delhi Mumbai\n",
      "delhidelhidelhidelhidelhidelhidelhidelhidelhidelhi\n",
      "**************************************************\n"
     ]
    }
   ],
   "source": [
    "# Arithmetics Operation\n",
    "\n",
    "# for Concatenaton\n",
    "\n",
    "# Adition\n",
    "print('Delhi' + 'Mumbai') \n",
    "print('Delhi' + ' ' + 'Mumbai')\n",
    "\n",
    "# for multiplication\n",
    "print('delhi'*10)\n",
    "print('*'*50) # utility code for borders"
   ]
  },
  {
   "cell_type": "code",
   "execution_count": 19,
   "id": "ef32af43",
   "metadata": {},
   "outputs": [
    {
     "data": {
      "text/plain": [
       "False"
      ]
     },
     "execution_count": 19,
     "metadata": {},
     "output_type": "execute_result"
    }
   ],
   "source": [
    "# Relation Operator\n",
    "\n",
    "'delhi'=='Mumbai'"
   ]
  },
  {
   "cell_type": "markdown",
   "id": "eb880a28",
   "metadata": {},
   "source": [
    "### LEXIOGRAPHICALLY\n",
    "- Comparing the basis of `ASCII` Number"
   ]
  },
  {
   "cell_type": "code",
   "execution_count": 20,
   "id": "2686ead2",
   "metadata": {},
   "outputs": [
    {
     "data": {
      "text/plain": [
       "False"
      ]
     },
     "execution_count": 20,
     "metadata": {},
     "output_type": "execute_result"
    }
   ],
   "source": [
    "'mumbai'>'pune'"
   ]
  },
  {
   "cell_type": "code",
   "execution_count": 21,
   "id": "2d722c3f",
   "metadata": {},
   "outputs": [
    {
     "data": {
      "text/plain": [
       "False"
      ]
     },
     "execution_count": 21,
     "metadata": {},
     "output_type": "execute_result"
    }
   ],
   "source": [
    "'Pune'>'pune'"
   ]
  },
  {
   "cell_type": "code",
   "execution_count": 22,
   "id": "3a4733ca",
   "metadata": {},
   "outputs": [
    {
     "data": {
      "text/plain": [
       "'World'"
      ]
     },
     "execution_count": 22,
     "metadata": {},
     "output_type": "execute_result"
    }
   ],
   "source": [
    "# Logical Operator\n",
    "\n",
    "'Hello' and 'World'"
   ]
  },
  {
   "cell_type": "code",
   "execution_count": 23,
   "id": "d9f04484",
   "metadata": {},
   "outputs": [
    {
     "data": {
      "text/plain": [
       "'Hello'"
      ]
     },
     "execution_count": 23,
     "metadata": {},
     "output_type": "execute_result"
    }
   ],
   "source": [
    "'Hello' or 'World'"
   ]
  },
  {
   "cell_type": "markdown",
   "id": "2fa47d42",
   "metadata": {},
   "source": [
    "##### `Note:`\n",
    "- If String Contains a Characters then Python will understand it as `True`. If Empty String then `False`"
   ]
  },
  {
   "cell_type": "code",
   "execution_count": 24,
   "id": "ac48bc4b",
   "metadata": {},
   "outputs": [
    {
     "data": {
      "text/plain": [
       "''"
      ]
     },
     "execution_count": 24,
     "metadata": {},
     "output_type": "execute_result"
    }
   ],
   "source": [
    "'' and 'World' # False and True thats why its print False : dono True hote toh last waala print kardeta"
   ]
  },
  {
   "cell_type": "code",
   "execution_count": 25,
   "id": "78edef4a",
   "metadata": {},
   "outputs": [
    {
     "data": {
      "text/plain": [
       "'World'"
      ]
     },
     "execution_count": 25,
     "metadata": {},
     "output_type": "execute_result"
    }
   ],
   "source": [
    "'' or 'World' # False or True thats why True : agar Pehla waala True hota toh True Print krdeta"
   ]
  },
  {
   "cell_type": "code",
   "execution_count": 26,
   "id": "a7fb789b",
   "metadata": {},
   "outputs": [
    {
     "data": {
      "text/plain": [
       "'Hello'"
      ]
     },
     "execution_count": 26,
     "metadata": {},
     "output_type": "execute_result"
    }
   ],
   "source": [
    "'Hello' or 'World' # pehla waala True isliye Hello"
   ]
  },
  {
   "cell_type": "code",
   "execution_count": 27,
   "id": "55615a25",
   "metadata": {},
   "outputs": [
    {
     "data": {
      "text/plain": [
       "'World'"
      ]
     },
     "execution_count": 27,
     "metadata": {},
     "output_type": "execute_result"
    }
   ],
   "source": [
    "'Hello' and 'World' # dono true isliye last waala World"
   ]
  },
  {
   "cell_type": "code",
   "execution_count": 28,
   "id": "e5a2ce26",
   "metadata": {},
   "outputs": [
    {
     "data": {
      "text/plain": [
       "True"
      ]
     },
     "execution_count": 28,
     "metadata": {},
     "output_type": "execute_result"
    }
   ],
   "source": [
    "not ''"
   ]
  },
  {
   "cell_type": "code",
   "execution_count": 29,
   "id": "e4bfb19f",
   "metadata": {},
   "outputs": [
    {
     "data": {
      "text/plain": [
       "False"
      ]
     },
     "execution_count": 29,
     "metadata": {},
     "output_type": "execute_result"
    }
   ],
   "source": [
    "not 'Hello'"
   ]
  },
  {
   "cell_type": "code",
   "execution_count": 30,
   "id": "eb50af3e",
   "metadata": {},
   "outputs": [
    {
     "name": "stdout",
     "output_type": "stream",
     "text": [
      "H\n",
      "e\n",
      "l\n",
      "l\n",
      "o\n"
     ]
    }
   ],
   "source": [
    "# Loops on string\n",
    "\n",
    "for i in 'Hello':\n",
    "    print(i)"
   ]
  },
  {
   "cell_type": "code",
   "execution_count": 31,
   "id": "f19107fa",
   "metadata": {},
   "outputs": [
    {
     "name": "stdout",
     "output_type": "stream",
     "text": [
      "Pune\n",
      "Pune\n",
      "Pune\n",
      "Pune\n",
      "Pune\n"
     ]
    }
   ],
   "source": [
    "for i in 'Delhi':\n",
    "    print('Pune')"
   ]
  },
  {
   "cell_type": "code",
   "execution_count": 32,
   "id": "8c1545b5",
   "metadata": {},
   "outputs": [
    {
     "data": {
      "text/plain": [
       "True"
      ]
     },
     "execution_count": 32,
     "metadata": {},
     "output_type": "execute_result"
    }
   ],
   "source": [
    "# Membership Operators\n",
    "\n",
    "'D' in 'Delhi'"
   ]
  },
  {
   "cell_type": "code",
   "execution_count": 33,
   "id": "bc7f51c1",
   "metadata": {},
   "outputs": [
    {
     "data": {
      "text/plain": [
       "False"
      ]
     },
     "execution_count": 33,
     "metadata": {},
     "output_type": "execute_result"
    }
   ],
   "source": [
    "'D' in 'delhi'"
   ]
  },
  {
   "cell_type": "markdown",
   "id": "3361e76b",
   "metadata": {},
   "source": [
    "## String Functions"
   ]
  },
  {
   "cell_type": "markdown",
   "id": "c4518b81",
   "metadata": {},
   "source": [
    "### Common Functions\n",
    "- len\n",
    "- max\n",
    "- min\n",
    "- sorted"
   ]
  },
  {
   "cell_type": "code",
   "execution_count": 34,
   "id": "de1f4a37",
   "metadata": {},
   "outputs": [
    {
     "data": {
      "text/plain": [
       "'Hello World'"
      ]
     },
     "execution_count": 34,
     "metadata": {},
     "output_type": "execute_result"
    }
   ],
   "source": [
    "a='Hello World'\n",
    "a"
   ]
  },
  {
   "cell_type": "code",
   "execution_count": 35,
   "id": "f7589d78",
   "metadata": {},
   "outputs": [
    {
     "data": {
      "text/plain": [
       "11"
      ]
     },
     "execution_count": 35,
     "metadata": {},
     "output_type": "execute_result"
    }
   ],
   "source": [
    "len(a)"
   ]
  },
  {
   "cell_type": "code",
   "execution_count": 36,
   "id": "10d8e386",
   "metadata": {},
   "outputs": [
    {
     "data": {
      "text/plain": [
       "'r'"
      ]
     },
     "execution_count": 36,
     "metadata": {},
     "output_type": "execute_result"
    }
   ],
   "source": [
    "# max --> Max Value on the basis of ASCII Characters\n",
    "max(a)"
   ]
  },
  {
   "cell_type": "code",
   "execution_count": 37,
   "id": "4329b59f",
   "metadata": {},
   "outputs": [
    {
     "data": {
      "text/plain": [
       "' '"
      ]
     },
     "execution_count": 37,
     "metadata": {},
     "output_type": "execute_result"
    }
   ],
   "source": [
    "min(a)"
   ]
  },
  {
   "cell_type": "code",
   "execution_count": 38,
   "id": "daf9884f",
   "metadata": {},
   "outputs": [
    {
     "data": {
      "text/plain": [
       "[' ', 'H', 'W', 'd', 'e', 'l', 'l', 'l', 'o', 'o', 'r']"
      ]
     },
     "execution_count": 38,
     "metadata": {},
     "output_type": "execute_result"
    }
   ],
   "source": [
    "# sorted --> sorting the string on the basis of ASCII value but Output will be a list\n",
    "\n",
    "sorted(a)"
   ]
  },
  {
   "cell_type": "code",
   "execution_count": 39,
   "id": "11dac9ef",
   "metadata": {},
   "outputs": [
    {
     "data": {
      "text/plain": [
       "['r', 'o', 'o', 'l', 'l', 'l', 'e', 'd', 'W', 'H', ' ']"
      ]
     },
     "execution_count": 39,
     "metadata": {},
     "output_type": "execute_result"
    }
   ],
   "source": [
    "# decending order \n",
    "sorted(a,reverse=True)"
   ]
  },
  {
   "cell_type": "markdown",
   "id": "227919a6",
   "metadata": {},
   "source": [
    "### Capitalize/Title/Upper/Lower/Swapcase"
   ]
  },
  {
   "cell_type": "code",
   "execution_count": 40,
   "id": "ef17eb20",
   "metadata": {},
   "outputs": [],
   "source": [
    "a='hello world'"
   ]
  },
  {
   "cell_type": "code",
   "execution_count": 41,
   "id": "3ed97cd0",
   "metadata": {},
   "outputs": [
    {
     "data": {
      "text/plain": [
       "'Hello world'"
      ]
     },
     "execution_count": 41,
     "metadata": {},
     "output_type": "execute_result"
    }
   ],
   "source": [
    "# capitalize --> Making 1st letter Capital\n",
    "\n",
    "a.capitalize()"
   ]
  },
  {
   "cell_type": "code",
   "execution_count": 42,
   "id": "19b232e2",
   "metadata": {},
   "outputs": [
    {
     "data": {
      "text/plain": [
       "'Hello World'"
      ]
     },
     "execution_count": 42,
     "metadata": {},
     "output_type": "execute_result"
    }
   ],
   "source": [
    "# tile --> Making 1st letter Capital of every world in the string\n",
    "\n",
    "a.title()"
   ]
  },
  {
   "cell_type": "code",
   "execution_count": 43,
   "id": "952c4fad",
   "metadata": {},
   "outputs": [
    {
     "data": {
      "text/plain": [
       "'HELLO WORLD'"
      ]
     },
     "execution_count": 43,
     "metadata": {},
     "output_type": "execute_result"
    }
   ],
   "source": [
    "# uppercase\n",
    "\n",
    "a.upper()"
   ]
  },
  {
   "cell_type": "code",
   "execution_count": 44,
   "id": "5dfb7ed2",
   "metadata": {},
   "outputs": [
    {
     "data": {
      "text/plain": [
       "'hello world'"
      ]
     },
     "execution_count": 44,
     "metadata": {},
     "output_type": "execute_result"
    }
   ],
   "source": [
    "# lowercase\n",
    "\n",
    "a.lower()"
   ]
  },
  {
   "cell_type": "code",
   "execution_count": 45,
   "id": "23e721e4",
   "metadata": {},
   "outputs": [
    {
     "data": {
      "text/plain": [
       "'hEllo WorLd'"
      ]
     },
     "execution_count": 45,
     "metadata": {},
     "output_type": "execute_result"
    }
   ],
   "source": [
    "# swapcase --> Capital to Lower and Lower to Capital\n",
    "\n",
    "s='HeLLO wORlD'\n",
    "s.swapcase()"
   ]
  },
  {
   "cell_type": "markdown",
   "id": "2efd4449",
   "metadata": {},
   "source": [
    "### Count/Find/Index"
   ]
  },
  {
   "cell_type": "code",
   "execution_count": 46,
   "id": "41a9c51f",
   "metadata": {},
   "outputs": [
    {
     "data": {
      "text/plain": [
       "1"
      ]
     },
     "execution_count": 46,
     "metadata": {},
     "output_type": "execute_result"
    }
   ],
   "source": [
    "# count --> frequency Character of a Given String\n",
    "'my name is Anuj'.count('i')"
   ]
  },
  {
   "cell_type": "code",
   "execution_count": 47,
   "id": "466327f0",
   "metadata": {},
   "outputs": [
    {
     "data": {
      "text/plain": [
       "-1"
      ]
     },
     "execution_count": 47,
     "metadata": {},
     "output_type": "execute_result"
    }
   ],
   "source": [
    "# find --> finding index of any character\n",
    "\n",
    "'my name is Anuj'.find('x')"
   ]
  },
  {
   "cell_type": "code",
   "execution_count": 48,
   "id": "1d7f3b6a",
   "metadata": {},
   "outputs": [
    {
     "data": {
      "text/plain": [
       "8"
      ]
     },
     "execution_count": 48,
     "metadata": {},
     "output_type": "execute_result"
    }
   ],
   "source": [
    "'my name is Anuj'.find('i')"
   ]
  },
  {
   "cell_type": "code",
   "execution_count": 49,
   "id": "3c770d6e",
   "metadata": {},
   "outputs": [
    {
     "ename": "ValueError",
     "evalue": "substring not found",
     "output_type": "error",
     "traceback": [
      "\u001b[1;31m---------------------------------------------------------------------------\u001b[0m",
      "\u001b[1;31mValueError\u001b[0m                                Traceback (most recent call last)",
      "\u001b[1;32m~\\AppData\\Local\\Temp/ipykernel_1964/2830196087.py\u001b[0m in \u001b[0;36m<module>\u001b[1;34m\u001b[0m\n\u001b[0;32m      1\u001b[0m \u001b[1;31m# index\u001b[0m\u001b[1;33m\u001b[0m\u001b[1;33m\u001b[0m\u001b[0m\n\u001b[0;32m      2\u001b[0m \u001b[1;33m\u001b[0m\u001b[0m\n\u001b[1;32m----> 3\u001b[1;33m \u001b[1;34m'my name is Anuj'\u001b[0m\u001b[1;33m.\u001b[0m\u001b[0mindex\u001b[0m\u001b[1;33m(\u001b[0m\u001b[1;34m'x'\u001b[0m\u001b[1;33m)\u001b[0m\u001b[1;33m\u001b[0m\u001b[1;33m\u001b[0m\u001b[0m\n\u001b[0m",
      "\u001b[1;31mValueError\u001b[0m: substring not found"
     ]
    }
   ],
   "source": [
    "# index \n",
    "\n",
    "'my name is Anuj'.index('x')"
   ]
  },
  {
   "cell_type": "code",
   "execution_count": 50,
   "id": "4987ae63",
   "metadata": {},
   "outputs": [
    {
     "data": {
      "text/plain": [
       "11"
      ]
     },
     "execution_count": 50,
     "metadata": {},
     "output_type": "execute_result"
    }
   ],
   "source": [
    "'my name is Anuj'.index('A')"
   ]
  },
  {
   "cell_type": "markdown",
   "id": "e06bf2a7",
   "metadata": {},
   "source": [
    "### endswith/startswith"
   ]
  },
  {
   "cell_type": "code",
   "execution_count": 51,
   "id": "5a98a7bc",
   "metadata": {},
   "outputs": [
    {
     "data": {
      "text/plain": [
       "True"
      ]
     },
     "execution_count": 51,
     "metadata": {},
     "output_type": "execute_result"
    }
   ],
   "source": [
    "'my name is Anuj'.endswith('j')"
   ]
  },
  {
   "cell_type": "code",
   "execution_count": 52,
   "id": "afe9c488",
   "metadata": {},
   "outputs": [
    {
     "data": {
      "text/plain": [
       "False"
      ]
     },
     "execution_count": 52,
     "metadata": {},
     "output_type": "execute_result"
    }
   ],
   "source": [
    "'my name is Anuj'.endswith('a')"
   ]
  },
  {
   "cell_type": "code",
   "execution_count": 53,
   "id": "684360c1",
   "metadata": {},
   "outputs": [
    {
     "data": {
      "text/plain": [
       "True"
      ]
     },
     "execution_count": 53,
     "metadata": {},
     "output_type": "execute_result"
    }
   ],
   "source": [
    "'my name is Anuj'.endswith('uj')"
   ]
  },
  {
   "cell_type": "code",
   "execution_count": 54,
   "id": "26cd4cf4",
   "metadata": {},
   "outputs": [
    {
     "data": {
      "text/plain": [
       "False"
      ]
     },
     "execution_count": 54,
     "metadata": {},
     "output_type": "execute_result"
    }
   ],
   "source": [
    "'my name is Anuj'.startswith('A')"
   ]
  },
  {
   "cell_type": "code",
   "execution_count": 55,
   "id": "659c996f",
   "metadata": {},
   "outputs": [
    {
     "data": {
      "text/plain": [
       "True"
      ]
     },
     "execution_count": 55,
     "metadata": {},
     "output_type": "execute_result"
    }
   ],
   "source": [
    "'my name is Anuj'.startswith('my')"
   ]
  },
  {
   "cell_type": "markdown",
   "id": "9417d76c",
   "metadata": {},
   "source": [
    "### String formating"
   ]
  },
  {
   "cell_type": "code",
   "execution_count": 56,
   "id": "820f1cf9",
   "metadata": {},
   "outputs": [
    {
     "data": {
      "text/plain": [
       "'Hi my name is Anuj and I am a male'"
      ]
     },
     "execution_count": 56,
     "metadata": {},
     "output_type": "execute_result"
    }
   ],
   "source": [
    "name = 'Anuj'\n",
    "gender = 'male'\n",
    "\n",
    "'Hi my name is {1} and I am a {0}'.format(gender,name)"
   ]
  },
  {
   "cell_type": "code",
   "execution_count": 57,
   "id": "9bde6152",
   "metadata": {},
   "outputs": [
    {
     "data": {
      "text/plain": [
       "'Hi my name is Anuj and I am a male'"
      ]
     },
     "execution_count": 57,
     "metadata": {},
     "output_type": "execute_result"
    }
   ],
   "source": [
    "name = 'Anuj'\n",
    "gender = 'male'\n",
    "\n",
    "f'Hi my name is {name} and I am a {gender}'"
   ]
  },
  {
   "cell_type": "markdown",
   "id": "31865b3b",
   "metadata": {},
   "source": [
    "### isalnum/ isalpha/ isdigit/ isidentifier"
   ]
  },
  {
   "cell_type": "code",
   "execution_count": 58,
   "id": "20821a77",
   "metadata": {},
   "outputs": [
    {
     "data": {
      "text/plain": [
       "True"
      ]
     },
     "execution_count": 58,
     "metadata": {},
     "output_type": "execute_result"
    }
   ],
   "source": [
    "# isalnum --> alpha-numeric Characters\n",
    "\n",
    "'ANuj145'.isalnum()"
   ]
  },
  {
   "cell_type": "code",
   "execution_count": 59,
   "id": "78ea3f83",
   "metadata": {},
   "outputs": [
    {
     "data": {
      "text/plain": [
       "False"
      ]
     },
     "execution_count": 59,
     "metadata": {},
     "output_type": "execute_result"
    }
   ],
   "source": [
    "# but if we add symbols\n",
    "'ANuj145$'.isalnum()"
   ]
  },
  {
   "cell_type": "code",
   "execution_count": 60,
   "id": "745d60c4",
   "metadata": {},
   "outputs": [
    {
     "data": {
      "text/plain": [
       "False"
      ]
     },
     "execution_count": 60,
     "metadata": {},
     "output_type": "execute_result"
    }
   ],
   "source": [
    "# isalpha --> stringbof only alphabets\n",
    "\n",
    "'Anuj145'.isalpha()"
   ]
  },
  {
   "cell_type": "code",
   "execution_count": 61,
   "id": "09c23872",
   "metadata": {},
   "outputs": [
    {
     "data": {
      "text/plain": [
       "True"
      ]
     },
     "execution_count": 61,
     "metadata": {},
     "output_type": "execute_result"
    }
   ],
   "source": [
    "'Anuj'.isalpha()"
   ]
  },
  {
   "cell_type": "code",
   "execution_count": 62,
   "id": "35eb2123",
   "metadata": {},
   "outputs": [
    {
     "data": {
      "text/plain": [
       "True"
      ]
     },
     "execution_count": 62,
     "metadata": {},
     "output_type": "execute_result"
    }
   ],
   "source": [
    "# isdigit --> string of digit\n",
    "'12345'.isdigit()"
   ]
  },
  {
   "cell_type": "code",
   "execution_count": 63,
   "id": "5fcedc1a",
   "metadata": {},
   "outputs": [
    {
     "data": {
      "text/plain": [
       "False"
      ]
     },
     "execution_count": 63,
     "metadata": {},
     "output_type": "execute_result"
    }
   ],
   "source": [
    "'12345acd'.isdigit()"
   ]
  },
  {
   "cell_type": "code",
   "execution_count": 64,
   "id": "f6ff1f15",
   "metadata": {},
   "outputs": [
    {
     "data": {
      "text/plain": [
       "True"
      ]
     },
     "execution_count": 64,
     "metadata": {},
     "output_type": "execute_result"
    }
   ],
   "source": [
    "# isindentifier\n",
    "\n",
    "'name1'.isidentifier()"
   ]
  },
  {
   "cell_type": "code",
   "execution_count": 65,
   "id": "d95c0dd1",
   "metadata": {},
   "outputs": [
    {
     "data": {
      "text/plain": [
       "True"
      ]
     },
     "execution_count": 65,
     "metadata": {},
     "output_type": "execute_result"
    }
   ],
   "source": [
    "'name_1'.isidentifier()"
   ]
  },
  {
   "cell_type": "code",
   "execution_count": 66,
   "id": "8cce709d",
   "metadata": {},
   "outputs": [
    {
     "data": {
      "text/plain": [
       "False"
      ]
     },
     "execution_count": 66,
     "metadata": {},
     "output_type": "execute_result"
    }
   ],
   "source": [
    "'1name'.isidentifier()"
   ]
  },
  {
   "cell_type": "markdown",
   "id": "ac28f697",
   "metadata": {},
   "source": [
    "### split/join"
   ]
  },
  {
   "cell_type": "code",
   "execution_count": 67,
   "id": "744cf945",
   "metadata": {},
   "outputs": [],
   "source": [
    "a='hi my name is Anuj'"
   ]
  },
  {
   "cell_type": "code",
   "execution_count": 68,
   "id": "d055fbe3",
   "metadata": {},
   "outputs": [
    {
     "data": {
      "text/plain": [
       "['hi', 'my', 'name', 'is', 'Anuj']"
      ]
     },
     "execution_count": 68,
     "metadata": {},
     "output_type": "execute_result"
    }
   ],
   "source": [
    "# split() --> break the sentence word by word and gives the output in list\n",
    "a.split()"
   ]
  },
  {
   "cell_type": "code",
   "execution_count": 69,
   "id": "d40ed12a",
   "metadata": {},
   "outputs": [
    {
     "data": {
      "text/plain": [
       "['h', ' my name ', 's Anuj']"
      ]
     },
     "execution_count": 69,
     "metadata": {},
     "output_type": "execute_result"
    }
   ],
   "source": [
    "# on the basis of any value\n",
    "a.split('i')"
   ]
  },
  {
   "cell_type": "code",
   "execution_count": 70,
   "id": "828ebdfd",
   "metadata": {},
   "outputs": [
    {
     "data": {
      "text/plain": [
       "'hi my name is Anuj'"
      ]
     },
     "execution_count": 70,
     "metadata": {},
     "output_type": "execute_result"
    }
   ],
   "source": [
    "# join --> reverse of split to join any sentence\n",
    "\n",
    "\" \".join(['hi', 'my', 'name', 'is', 'Anuj'])"
   ]
  },
  {
   "cell_type": "code",
   "execution_count": 71,
   "id": "ff48904d",
   "metadata": {},
   "outputs": [
    {
     "data": {
      "text/plain": [
       "'hi-my-name-is-Anuj'"
      ]
     },
     "execution_count": 71,
     "metadata": {},
     "output_type": "execute_result"
    }
   ],
   "source": [
    "\"-\".join(['hi', 'my', 'name', 'is', 'Anuj'])"
   ]
  },
  {
   "cell_type": "code",
   "execution_count": 72,
   "id": "850f3c4f",
   "metadata": {},
   "outputs": [
    {
     "data": {
      "text/plain": [
       "'hi my name is anu'"
      ]
     },
     "execution_count": 72,
     "metadata": {},
     "output_type": "execute_result"
    }
   ],
   "source": [
    "# replace\n",
    "\n",
    "a.replace('Anuj','anu')"
   ]
  },
  {
   "cell_type": "code",
   "execution_count": 73,
   "id": "e6512c9a",
   "metadata": {},
   "outputs": [
    {
     "data": {
      "text/plain": [
       "'Anuj'"
      ]
     },
     "execution_count": 73,
     "metadata": {},
     "output_type": "execute_result"
    }
   ],
   "source": [
    "# strip --> remove all the spaces in a string\n",
    "\n",
    "'Anuj              '.strip()"
   ]
  },
  {
   "cell_type": "markdown",
   "id": "12bab19f",
   "metadata": {},
   "source": [
    "## Exercices"
   ]
  },
  {
   "cell_type": "markdown",
   "id": "e2aec41e",
   "metadata": {},
   "source": [
    "### `Q-1:` Find the length of a given string without using the len() function"
   ]
  },
  {
   "cell_type": "code",
   "execution_count": 74,
   "id": "019f1aa0",
   "metadata": {},
   "outputs": [
    {
     "name": "stdout",
     "output_type": "stream",
     "text": [
      "16\n"
     ]
    }
   ],
   "source": [
    "s='My name is Rahul'\n",
    "\n",
    "count=0\n",
    "\n",
    "for i in s:\n",
    "    count+=1\n",
    "\n",
    "print(count)"
   ]
  },
  {
   "cell_type": "code",
   "execution_count": 75,
   "id": "435a5fda",
   "metadata": {},
   "outputs": [
    {
     "data": {
      "text/plain": [
       "16"
      ]
     },
     "execution_count": 75,
     "metadata": {},
     "output_type": "execute_result"
    }
   ],
   "source": [
    "len(s)"
   ]
  },
  {
   "cell_type": "markdown",
   "id": "d6e7801f",
   "metadata": {},
   "source": [
    "### `Q-2:` Extract username from a given email. \n",
    "- Eg if the email is nitish24singh@gmail.com \n",
    "- then the username should be nitish24singh"
   ]
  },
  {
   "cell_type": "code",
   "execution_count": 76,
   "id": "50baa85c",
   "metadata": {},
   "outputs": [
    {
     "data": {
      "text/plain": [
       "'nitish24singh'"
      ]
     },
     "execution_count": 76,
     "metadata": {},
     "output_type": "execute_result"
    }
   ],
   "source": [
    "a='nitish24singh@gmail.com'\n",
    "\n",
    "a[:13]"
   ]
  },
  {
   "cell_type": "markdown",
   "id": "79ef1fb6",
   "metadata": {},
   "source": [
    "### `Q-3:` Count the frequency of a particular character in a provided string. \n",
    "- Eg 'hello how are you' is the string, the frequency of h in this string is 2."
   ]
  },
  {
   "cell_type": "code",
   "execution_count": 79,
   "id": "63ceb5bb",
   "metadata": {},
   "outputs": [
    {
     "name": "stdout",
     "output_type": "stream",
     "text": [
      "Enter a string: heloooo\n",
      "what would like to search for: o\n",
      "frequency:  4\n"
     ]
    }
   ],
   "source": [
    "strr=input(\"Enter a string: \")\n",
    "\n",
    "term = input('what would like to search for: ')\n",
    "\n",
    "counter = 0\n",
    "for i in strr:\n",
    "  if i == term:\n",
    "    counter += 1\n",
    "\n",
    "print('frequency: ',counter)"
   ]
  },
  {
   "cell_type": "markdown",
   "id": "4b4af5c7",
   "metadata": {},
   "source": [
    "### `Q-4:` Write a program which can remove a particular character from a string."
   ]
  },
  {
   "cell_type": "code",
   "execution_count": 81,
   "id": "0e33ed68",
   "metadata": {},
   "outputs": [
    {
     "name": "stdout",
     "output_type": "stream",
     "text": [
      "Enter a string: hellooo\n",
      "Enter the character: l\n"
     ]
    },
    {
     "data": {
      "text/plain": [
       "'heooo'"
      ]
     },
     "execution_count": 81,
     "metadata": {},
     "output_type": "execute_result"
    }
   ],
   "source": [
    "lr=input(\"Enter a string: \")\n",
    "char=input(\"Enter the character: \")\n",
    "\n",
    "lr.replace(char,'')"
   ]
  },
  {
   "cell_type": "markdown",
   "id": "bb68309a",
   "metadata": {},
   "source": [
    "### `Q-5:` Write a program that can check whether a given string is palindrome or not.\n",
    "- abba\n",
    "- malayalam"
   ]
  },
  {
   "cell_type": "code",
   "execution_count": 86,
   "id": "64694076",
   "metadata": {},
   "outputs": [
    {
     "name": "stdout",
     "output_type": "stream",
     "text": [
      "Enter a string: malayalam\n",
      "malayalam  is a Palidrome\n"
     ]
    }
   ],
   "source": [
    "st=input(\"Enter a string: \")\n",
    "rev=st[::-1]\n",
    "\n",
    "if st==rev:\n",
    "    print(st,' is a Palidrome')\n",
    "else:\n",
    "    print(st, ' is a Not Palidrome')"
   ]
  },
  {
   "cell_type": "markdown",
   "id": "f5b183cb",
   "metadata": {},
   "source": [
    "### `Q-6:` Write a program to count the number of words in a string without split()"
   ]
  },
  {
   "cell_type": "code",
   "execution_count": 88,
   "id": "0723a8bf",
   "metadata": {},
   "outputs": [
    {
     "name": "stdout",
     "output_type": "stream",
     "text": [
      "enter the string: hi my name is Anuj\n",
      "['hi', 'my', 'name', 'is', 'Anuj']\n",
      "words in a string 5\n"
     ]
    }
   ],
   "source": [
    "ab=input(\"enter the string: \")\n",
    "l=[]\n",
    "temp=''\n",
    "\n",
    "for i in ab:\n",
    "    if i!=' ':\n",
    "        temp+=i\n",
    "    else:\n",
    "        l.append(temp)\n",
    "        temp=''\n",
    "l.append(temp)        \n",
    "print(l)\n",
    "print('words in a string',len(l))"
   ]
  },
  {
   "cell_type": "markdown",
   "id": "5fdcf423",
   "metadata": {},
   "source": [
    "### `Q-7:` Write a python program to convert a string to title case without using the title()"
   ]
  },
  {
   "cell_type": "code",
   "execution_count": 93,
   "id": "4cb609dc",
   "metadata": {},
   "outputs": [
    {
     "name": "stdout",
     "output_type": "stream",
     "text": [
      "enter the string: my nAMe IS anUJ\n",
      "My Name Is Anuj\n"
     ]
    }
   ],
   "source": [
    "s = input('enter the string: ')\n",
    "\n",
    "L = []\n",
    "for i in s.split():\n",
    "  L.append(i[0].upper() + i[1:].lower())\n",
    "\n",
    "print(\" \".join(L))"
   ]
  },
  {
   "cell_type": "markdown",
   "id": "4f4c21e0",
   "metadata": {},
   "source": [
    "### `Q-8:` Write a program that can convert an integer to string without str()."
   ]
  },
  {
   "cell_type": "code",
   "execution_count": 94,
   "id": "bdabb849",
   "metadata": {},
   "outputs": [
    {
     "name": "stdout",
     "output_type": "stream",
     "text": [
      "Enter a Num: 854\n",
      "854\n",
      "<class 'str'>\n"
     ]
    }
   ],
   "source": [
    "num=int(input(\"Enter a Num: \"))\n",
    "\n",
    "digits='0123456789'\n",
    "res=''\n",
    "while num!=0:\n",
    "    res=digits[num%10]+res\n",
    "    num=num//10\n",
    "print(res)\n",
    "print(type(res))"
   ]
  }
 ],
 "metadata": {
  "kernelspec": {
   "display_name": "Python 3 (ipykernel)",
   "language": "python",
   "name": "python3"
  },
  "language_info": {
   "codemirror_mode": {
    "name": "ipython",
    "version": 3
   },
   "file_extension": ".py",
   "mimetype": "text/x-python",
   "name": "python",
   "nbconvert_exporter": "python",
   "pygments_lexer": "ipython3",
   "version": "3.9.7"
  }
 },
 "nbformat": 4,
 "nbformat_minor": 5
}
