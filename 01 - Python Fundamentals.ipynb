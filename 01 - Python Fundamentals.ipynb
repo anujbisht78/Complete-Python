{
 "cells": [
  {
   "cell_type": "markdown",
   "id": "009d285e",
   "metadata": {},
   "source": [
    "## What is Python\n",
    "- Python is a versatile and easy-to-learn programming language used for various tasks like web development, data analysis, artificial intelligence, automation, and more. It's like a Swiss Army knife for coding because it's readable, has a clear syntax, and offers a vast array of libraries and tools to make programming tasks easier. Whether you're a beginner or an expert, Python's simplicity and flexibility make it a popular choice for programmers worldwide."
   ]
  },
  {
   "cell_type": "markdown",
   "id": "53941034",
   "metadata": {},
   "source": [
    "### Python Output"
   ]
  },
  {
   "cell_type": "code",
   "execution_count": 10,
   "id": "5eb99a50",
   "metadata": {},
   "outputs": [
    {
     "name": "stdout",
     "output_type": "stream",
     "text": [
      "Hello World\n"
     ]
    }
   ],
   "source": [
    "# Python is a case sensitive language\n",
    "print('Hello World')"
   ]
  },
  {
   "cell_type": "code",
   "execution_count": 11,
   "id": "268a3875",
   "metadata": {},
   "outputs": [
    {
     "name": "stdout",
     "output_type": "stream",
     "text": [
      "salman khan\n"
     ]
    }
   ],
   "source": [
    "print('salman khan')"
   ]
  },
  {
   "cell_type": "code",
   "execution_count": 12,
   "id": "bfa51f72",
   "metadata": {},
   "outputs": [
    {
     "ename": "SyntaxError",
     "evalue": "invalid syntax (Temp/ipykernel_21736/3282191801.py, line 1)",
     "output_type": "error",
     "traceback": [
      "\u001b[1;36m  File \u001b[1;32m\"C:\\Users\\anujb\\AppData\\Local\\Temp/ipykernel_21736/3282191801.py\"\u001b[1;36m, line \u001b[1;32m1\u001b[0m\n\u001b[1;33m    print(salman khan) # thats why we have to put it into the brackets\u001b[0m\n\u001b[1;37m                 ^\u001b[0m\n\u001b[1;31mSyntaxError\u001b[0m\u001b[1;31m:\u001b[0m invalid syntax\n"
     ]
    }
   ],
   "source": [
    "print(salman khan) # thats why we have to put it into the brackets"
   ]
  },
  {
   "cell_type": "code",
   "execution_count": 13,
   "id": "fc606c62",
   "metadata": {},
   "outputs": [
    {
     "name": "stdout",
     "output_type": "stream",
     "text": [
      "7\n",
      "7.7\n",
      "True\n",
      "Hello 1 4.5 True\n"
     ]
    }
   ],
   "source": [
    "print(7)\n",
    "print(7.7)\n",
    "print(True)\n",
    "print('Hello', 1, 4.5, True)"
   ]
  },
  {
   "cell_type": "code",
   "execution_count": 14,
   "id": "be067290",
   "metadata": {},
   "outputs": [
    {
     "name": "stdout",
     "output_type": "stream",
     "text": [
      "Hello/1/4.5/True\n"
     ]
    }
   ],
   "source": [
    "# we want seperation ==> sep keyword\n",
    "\n",
    "print('Hello',1,4.5,True,sep='/')"
   ]
  },
  {
   "cell_type": "code",
   "execution_count": 15,
   "id": "28187af4",
   "metadata": {},
   "outputs": [
    {
     "name": "stdout",
     "output_type": "stream",
     "text": [
      "Hello+1+4.5+True\n"
     ]
    }
   ],
   "source": [
    "print('Hello',1,4.5,True,sep='+')"
   ]
  },
  {
   "cell_type": "code",
   "execution_count": 16,
   "id": "7042596b",
   "metadata": {},
   "outputs": [
    {
     "name": "stdout",
     "output_type": "stream",
     "text": [
      "hello\n",
      "world\n"
     ]
    }
   ],
   "source": [
    "print('hello')\n",
    "print('world')"
   ]
  },
  {
   "cell_type": "code",
   "execution_count": 17,
   "id": "fad374d7",
   "metadata": {},
   "outputs": [
    {
     "name": "stdout",
     "output_type": "stream",
     "text": [
      "hello world\n"
     ]
    }
   ],
   "source": [
    "# if we want to print on the same line : end keyword\n",
    "print('hello',end=' ')\n",
    "print('world')"
   ]
  },
  {
   "cell_type": "markdown",
   "id": "76d52971",
   "metadata": {},
   "source": [
    "### Data Types\n",
    "- Interger\n",
    "- Decimal/Float\n",
    "- Boolean\n",
    "- Text/String\n",
    "- complex\n",
    "- List\n",
    "- Tuple\n",
    "- Sets\n",
    "- Dict"
   ]
  },
  {
   "cell_type": "code",
   "execution_count": 18,
   "id": "3e964d44",
   "metadata": {},
   "outputs": [
    {
     "name": "stdout",
     "output_type": "stream",
     "text": [
      "8\n",
      "inf\n"
     ]
    }
   ],
   "source": [
    "# integer \n",
    "\n",
    "print(8)\n",
    "print(10e309) # int_value e309 : is typically used to represent a very large number in scientific notation"
   ]
  },
  {
   "cell_type": "code",
   "execution_count": 19,
   "id": "aa8c8a9c",
   "metadata": {},
   "outputs": [
    {
     "data": {
      "text/plain": [
       "318"
      ]
     },
     "execution_count": 19,
     "metadata": {},
     "output_type": "execute_result"
    }
   ],
   "source": [
    "1*10^308"
   ]
  },
  {
   "cell_type": "code",
   "execution_count": 20,
   "id": "40817411",
   "metadata": {},
   "outputs": [
    {
     "name": "stdout",
     "output_type": "stream",
     "text": [
      "8.55\n",
      "inf\n"
     ]
    }
   ],
   "source": [
    "# decimal/float ==> 0.1, 5.5, 6.5 etc\n",
    "\n",
    "print(8.55)\n",
    "print(1.7e309)"
   ]
  },
  {
   "cell_type": "code",
   "execution_count": 21,
   "id": "93a0c764",
   "metadata": {},
   "outputs": [
    {
     "name": "stdout",
     "output_type": "stream",
     "text": [
      "True\n",
      "False\n"
     ]
    }
   ],
   "source": [
    "# Boolean\n",
    "print(True)\n",
    "print(False)"
   ]
  },
  {
   "cell_type": "code",
   "execution_count": 22,
   "id": "9c4608f8",
   "metadata": {},
   "outputs": [
    {
     "name": "stdout",
     "output_type": "stream",
     "text": [
      "Hello World\n"
     ]
    }
   ],
   "source": [
    "# Text/String\n",
    "print('Hello World')"
   ]
  },
  {
   "cell_type": "code",
   "execution_count": 23,
   "id": "940f2da8",
   "metadata": {},
   "outputs": [
    {
     "name": "stdout",
     "output_type": "stream",
     "text": [
      "(5+6j)\n"
     ]
    }
   ],
   "source": [
    "# complex\n",
    "print(5+6j)"
   ]
  },
  {
   "cell_type": "markdown",
   "id": "68f9223b",
   "metadata": {},
   "source": [
    "#### List\n",
    "- An ordered collection of items that can hold elements of any data type. Lists are mutable, meaning their elements can be changed after creation."
   ]
  },
  {
   "cell_type": "code",
   "execution_count": 24,
   "id": "81049388",
   "metadata": {},
   "outputs": [
    {
     "name": "stdout",
     "output_type": "stream",
     "text": [
      "[1, 2, 3, 4, 5]\n"
     ]
    }
   ],
   "source": [
    "# List-> C-> Array ==> []\n",
    "print([1,2,3,4,5])"
   ]
  },
  {
   "cell_type": "markdown",
   "id": "4d69bbc1",
   "metadata": {},
   "source": [
    "#### Tuple\n",
    "- similar to lists, but tuples are immutable, meaning their elements cannot be changed after creation. They are typically used to store collections of related data that shouldn't be modified."
   ]
  },
  {
   "cell_type": "code",
   "execution_count": 25,
   "id": "d5ed5493",
   "metadata": {},
   "outputs": [
    {
     "name": "stdout",
     "output_type": "stream",
     "text": [
      "(1, 2, 3, 4, 5)\n"
     ]
    }
   ],
   "source": [
    "# Tuple ==> ()\n",
    "print((1,2,3,4,5))"
   ]
  },
  {
   "cell_type": "markdown",
   "id": "05e1b7e4",
   "metadata": {},
   "source": [
    "#### Sets \n",
    "- An unordered collection of unique items, meaning each element in a set is distinct. Sets are mutable, allowing elements to be added or removed, and are commonly used for tasks like removing duplicates from a list or performing mathematical set operations."
   ]
  },
  {
   "cell_type": "code",
   "execution_count": 26,
   "id": "e6c1abac",
   "metadata": {},
   "outputs": [
    {
     "name": "stdout",
     "output_type": "stream",
     "text": [
      "{1, 2, 3, 4, 5}\n",
      "{1, 2, 3, 4, 5}\n"
     ]
    }
   ],
   "source": [
    "# Sets ==> {}\n",
    "print({1,2,3,4,5})\n",
    "print({1,1,1,2,2,3,4,5,5}) # gives the unique items"
   ]
  },
  {
   "cell_type": "markdown",
   "id": "fbe020d4",
   "metadata": {},
   "source": [
    "#### Dict\n",
    "- A collection of key-value pairs, where each key is unique and associated with a value. Dictionaries are mutable and offer fast lookup times for retrieving values based on their keys. They are often used to represent structured data and mappings between different pieces of information."
   ]
  },
  {
   "cell_type": "code",
   "execution_count": 27,
   "id": "94475ae7",
   "metadata": {},
   "outputs": [
    {
     "name": "stdout",
     "output_type": "stream",
     "text": [
      "{'name': 'Nitish', 'gender': 'Male', 'weight': 70}\n"
     ]
    }
   ],
   "source": [
    "# Dictionary : \n",
    "\n",
    "print({'name':'Nitish','gender':'Male','weight':70})"
   ]
  },
  {
   "cell_type": "code",
   "execution_count": 28,
   "id": "0e269b22",
   "metadata": {},
   "outputs": [
    {
     "data": {
      "text/plain": [
       "list"
      ]
     },
     "execution_count": 28,
     "metadata": {},
     "output_type": "execute_result"
    }
   ],
   "source": [
    "# type\n",
    "type([1,2,3])"
   ]
  },
  {
   "cell_type": "code",
   "execution_count": 29,
   "id": "3ab9e0c4",
   "metadata": {},
   "outputs": [
    {
     "data": {
      "text/plain": [
       "dict"
      ]
     },
     "execution_count": 29,
     "metadata": {},
     "output_type": "execute_result"
    }
   ],
   "source": [
    "a={'name':'Nitish','gender':'Male','weight':70}\n",
    "type(a)"
   ]
  },
  {
   "cell_type": "markdown",
   "id": "1e23ea50",
   "metadata": {},
   "source": [
    "### Variables\n",
    "- Static Vs Dynamic Typing\n",
    "- Static Vs Dynamic Binding\n",
    "- stylish declaration techniques"
   ]
  },
  {
   "cell_type": "code",
   "execution_count": 30,
   "id": "a02cecde",
   "metadata": {},
   "outputs": [
    {
     "name": "stdout",
     "output_type": "stream",
     "text": [
      "nitish\n",
      "11\n"
     ]
    }
   ],
   "source": [
    "# C/C++\n",
    "name = 'nitish'\n",
    "print(name)\n",
    "\n",
    "a = 5\n",
    "b = 6\n",
    "\n",
    "print(a + b)"
   ]
  },
  {
   "cell_type": "code",
   "execution_count": 31,
   "id": "853f9ad6",
   "metadata": {},
   "outputs": [
    {
     "ename": "SyntaxError",
     "evalue": "invalid syntax (Temp/ipykernel_21736/1086621539.py, line 4)",
     "output_type": "error",
     "traceback": [
      "\u001b[1;36m  File \u001b[1;32m\"C:\\Users\\anujb\\AppData\\Local\\Temp/ipykernel_21736/1086621539.py\"\u001b[1;36m, line \u001b[1;32m4\u001b[0m\n\u001b[1;33m    int b = 5\u001b[0m\n\u001b[1;37m        ^\u001b[0m\n\u001b[1;31mSyntaxError\u001b[0m\u001b[1;31m:\u001b[0m invalid syntax\n"
     ]
    }
   ],
   "source": [
    "# Dynamic Typing\n",
    "a = 5\n",
    "# Static Typing\n",
    "int b = 5"
   ]
  },
  {
   "cell_type": "code",
   "execution_count": 32,
   "id": "f8872ce2",
   "metadata": {},
   "outputs": [
    {
     "name": "stdout",
     "output_type": "stream",
     "text": [
      "5\n",
      "nitish\n"
     ]
    }
   ],
   "source": [
    "# Dynamic Binding\n",
    "a = 5\n",
    "print(a)\n",
    "a = 'nitish'\n",
    "print(a)\n",
    "\n",
    "# Static Binding\n",
    "# int a = 5"
   ]
  },
  {
   "cell_type": "code",
   "execution_count": 33,
   "id": "aeee6444",
   "metadata": {},
   "outputs": [
    {
     "name": "stdout",
     "output_type": "stream",
     "text": [
      "1 2 3\n"
     ]
    }
   ],
   "source": [
    "# declaration technique\n",
    "\n",
    "a = 1\n",
    "b = 2\n",
    "c = 3\n",
    "print(a,b,c)"
   ]
  },
  {
   "cell_type": "code",
   "execution_count": 34,
   "id": "330d946e",
   "metadata": {},
   "outputs": [
    {
     "name": "stdout",
     "output_type": "stream",
     "text": [
      "1 2 3\n"
     ]
    }
   ],
   "source": [
    "a,b,c = 1,2,3\n",
    "print(a,b,c)"
   ]
  },
  {
   "cell_type": "code",
   "execution_count": 35,
   "id": "f5df9d08",
   "metadata": {},
   "outputs": [
    {
     "name": "stdout",
     "output_type": "stream",
     "text": [
      "5 5 5\n"
     ]
    }
   ],
   "source": [
    "a=b=c= 5\n",
    "print(a,b,c)"
   ]
  },
  {
   "cell_type": "markdown",
   "id": "e7c7f23c",
   "metadata": {},
   "source": [
    "### Comments"
   ]
  },
  {
   "cell_type": "code",
   "execution_count": 36,
   "id": "b5c21785",
   "metadata": {},
   "outputs": [
    {
     "name": "stdout",
     "output_type": "stream",
     "text": [
      "10\n"
     ]
    }
   ],
   "source": [
    "# this is a comment\n",
    "# second line\n",
    "a = 4\n",
    "b = 6 # like this\n",
    "# second comment\n",
    "print(a+b)"
   ]
  },
  {
   "cell_type": "markdown",
   "id": "49980f30",
   "metadata": {},
   "source": [
    "### Keywords & Identifiers\n",
    "- `Keywords` in Python are reserved words that have special meanings and purposes within the language. They cannot be used as identifiers (variable names, function names, etc.) because they are already predefined for specific functionalities. Examples of keywords in Python include \"if,\" \"else,\" \"for,\" \"while,\" \"def,\" \"class,\" \"return,\" and \"import.\"\n",
    "\n",
    "- `Identifiers`, on the other hand, are names given to variables, functions, classes, modules, or other objects created by the programmer. They are user-defined and can consist of letters, numbers, and underscores, but must follow certain rules, such as not starting with a number and not being the same as a keyword. Identifiers are used to uniquely identify and reference different elements in a Python program. Examples of identifiers include variable names like \"count,\" function names like \"calculate_total,\" and class names like \"Student.\""
   ]
  },
  {
   "cell_type": "code",
   "execution_count": 39,
   "id": "2feb093f",
   "metadata": {},
   "outputs": [
    {
     "name": "stdout",
     "output_type": "stream",
     "text": [
      "Nitish\n",
      "ntiish\n"
     ]
    }
   ],
   "source": [
    "# Identifiers\n",
    "# You can't start with a digit\n",
    "name1 = 'Nitish'\n",
    "print(name1)\n",
    "\n",
    "# You can use special chars -> _\n",
    "_ = 'ntiish'\n",
    "print(_)\n",
    "# identiers can not be keyword"
   ]
  },
  {
   "cell_type": "markdown",
   "id": "9c062966",
   "metadata": {},
   "source": [
    "### User Input"
   ]
  },
  {
   "cell_type": "code",
   "execution_count": 42,
   "id": "b8826823",
   "metadata": {},
   "outputs": [
    {
     "name": "stdout",
     "output_type": "stream",
     "text": [
      "Enter Email: anujbisht3540@gmail.com\n"
     ]
    },
    {
     "data": {
      "text/plain": [
       "'anujbisht3540@gmail.com'"
      ]
     },
     "execution_count": 42,
     "metadata": {},
     "output_type": "execute_result"
    }
   ],
   "source": [
    "# Static Vs Dynamic\n",
    "input('Enter Email: ')"
   ]
  },
  {
   "cell_type": "code",
   "execution_count": 44,
   "id": "476668e1",
   "metadata": {},
   "outputs": [
    {
     "name": "stdout",
     "output_type": "stream",
     "text": [
      "enter first number: 15\n",
      "enter second number: 20\n",
      "35\n",
      "<class 'int'>\n"
     ]
    }
   ],
   "source": [
    "# take input from users and store them in a variable\n",
    "fnum = int(input('enter first number: '))\n",
    "snum = int(input('enter second number: '))\n",
    "#print(type(fnum),type(snum))\n",
    "# add the 2 variables\n",
    "result = fnum + snum\n",
    "# print the result\n",
    "print(result)\n",
    "print(type(fnum))"
   ]
  },
  {
   "cell_type": "markdown",
   "id": "cb7f03df",
   "metadata": {},
   "source": [
    "### Type Conversion"
   ]
  },
  {
   "cell_type": "code",
   "execution_count": 45,
   "id": "de421824",
   "metadata": {},
   "outputs": [
    {
     "name": "stdout",
     "output_type": "stream",
     "text": [
      "10.6\n",
      "<class 'int'> <class 'float'>\n"
     ]
    },
    {
     "ename": "TypeError",
     "evalue": "unsupported operand type(s) for +: 'int' and 'str'",
     "output_type": "error",
     "traceback": [
      "\u001b[1;31m---------------------------------------------------------------------------\u001b[0m",
      "\u001b[1;31mTypeError\u001b[0m                                 Traceback (most recent call last)",
      "\u001b[1;32m~\\AppData\\Local\\Temp/ipykernel_21736/3295153562.py\u001b[0m in \u001b[0;36m<module>\u001b[1;34m\u001b[0m\n\u001b[0;32m      3\u001b[0m \u001b[0mprint\u001b[0m\u001b[1;33m(\u001b[0m\u001b[0mtype\u001b[0m\u001b[1;33m(\u001b[0m\u001b[1;36m5\u001b[0m\u001b[1;33m)\u001b[0m\u001b[1;33m,\u001b[0m\u001b[0mtype\u001b[0m\u001b[1;33m(\u001b[0m\u001b[1;36m5.6\u001b[0m\u001b[1;33m)\u001b[0m\u001b[1;33m)\u001b[0m\u001b[1;33m\u001b[0m\u001b[1;33m\u001b[0m\u001b[0m\n\u001b[0;32m      4\u001b[0m \u001b[1;33m\u001b[0m\u001b[0m\n\u001b[1;32m----> 5\u001b[1;33m \u001b[0mprint\u001b[0m\u001b[1;33m(\u001b[0m\u001b[1;36m4\u001b[0m \u001b[1;33m+\u001b[0m \u001b[1;34m'4'\u001b[0m\u001b[1;33m)\u001b[0m\u001b[1;33m\u001b[0m\u001b[1;33m\u001b[0m\u001b[0m\n\u001b[0m",
      "\u001b[1;31mTypeError\u001b[0m: unsupported operand type(s) for +: 'int' and 'str'"
     ]
    }
   ],
   "source": [
    "# Implicit Vs Explicit\n",
    "print(5+5.6)\n",
    "print(type(5),type(5.6))\n",
    "\n",
    "print(4 + '4')"
   ]
  },
  {
   "cell_type": "code",
   "execution_count": 47,
   "id": "e1d452e3",
   "metadata": {},
   "outputs": [
    {
     "name": "stdout",
     "output_type": "stream",
     "text": [
      "5\n"
     ]
    },
    {
     "data": {
      "text/plain": [
       "4.0"
      ]
     },
     "execution_count": 47,
     "metadata": {},
     "output_type": "execute_result"
    }
   ],
   "source": [
    "# Explicit\n",
    "# str -> int\n",
    "#int(4+5j)\n",
    "\n",
    "# int to str\n",
    "print(str(5))\n",
    "\n",
    "# float\n",
    "float(4)"
   ]
  },
  {
   "cell_type": "markdown",
   "id": "8fff35cc",
   "metadata": {},
   "source": [
    "### Literals\n",
    "- A `literal` in Python is a way of expressing a specific value directly in code. It's like a direct representation of a value. For example, the number 5 or the string \"hello\" are literals. They directly represent their respective values without any additional processing or calculation. Similarly, other examples of literals include boolean values (True or False), numbers (integers or floating-point numbers), strings (sequences of characters), and various special values like None. Essentially, literals are straightforward representations of values in your code."
   ]
  },
  {
   "cell_type": "code",
   "execution_count": 49,
   "id": "f962dbbd",
   "metadata": {},
   "outputs": [
    {
     "name": "stdout",
     "output_type": "stream",
     "text": [
      "10 100 200 300\n",
      "10.5 150.0 0.0015\n",
      "3.14j 3.14 0.0\n"
     ]
    }
   ],
   "source": [
    "a = 0b1010 #Binary Literals\n",
    "b = 100 #Decimal Literal \n",
    "c = 0o310 #Octal Literal\n",
    "d = 0x12c #Hexadecimal Literal\n",
    "\n",
    "#Float Literal\n",
    "float_1 = 10.5 \n",
    "float_2 = 1.5e2 # 1.5 * 10^2\n",
    "float_3 = 1.5e-3 # 1.5 * 10^-3\n",
    "\n",
    "#Complex Literal \n",
    "x = 3.14j\n",
    "\n",
    "print(a, b, c, d)\n",
    "print(float_1, float_2,float_3)\n",
    "print(x, x.imag, x.real)"
   ]
  },
  {
   "cell_type": "code",
   "execution_count": 50,
   "id": "b5a916e9",
   "metadata": {},
   "outputs": [
    {
     "name": "stdout",
     "output_type": "stream",
     "text": [
      "This is Python\n",
      "This is Python\n",
      "C\n",
      "This is a multiline string with more than one line code.\n",
      "😀😆🤣\n",
      "raw \\n string\n"
     ]
    }
   ],
   "source": [
    "string = 'This is Python'\n",
    "strings = \"This is Python\"\n",
    "char = \"C\"\n",
    "multiline_str = \"\"\"This is a multiline string with more than one line code.\"\"\"\n",
    "unicode = u\"\\U0001f600\\U0001F606\\U0001F923\"\n",
    "raw_str = r\"raw \\n string\"\n",
    "\n",
    "print(string)\n",
    "print(strings)\n",
    "print(char)\n",
    "print(multiline_str)\n",
    "print(unicode)\n",
    "print(raw_str)"
   ]
  },
  {
   "cell_type": "code",
   "execution_count": 51,
   "id": "0e56ad49",
   "metadata": {},
   "outputs": [
    {
     "name": "stdout",
     "output_type": "stream",
     "text": [
      "a: 5\n",
      "b: 10\n"
     ]
    }
   ],
   "source": [
    "a = True + 4 #true=1\n",
    "b = False + 10 #false=0\n",
    "\n",
    "print(\"a:\", a)\n",
    "print(\"b:\", b)"
   ]
  }
 ],
 "metadata": {
  "kernelspec": {
   "display_name": "Python 3 (ipykernel)",
   "language": "python",
   "name": "python3"
  },
  "language_info": {
   "codemirror_mode": {
    "name": "ipython",
    "version": 3
   },
   "file_extension": ".py",
   "mimetype": "text/x-python",
   "name": "python",
   "nbconvert_exporter": "python",
   "pygments_lexer": "ipython3",
   "version": "3.9.7"
  }
 },
 "nbformat": 4,
 "nbformat_minor": 5
}
