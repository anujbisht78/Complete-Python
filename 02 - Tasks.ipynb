{
 "cells": [
  {
   "cell_type": "markdown",
   "id": "e29c34dc",
   "metadata": {},
   "source": [
    "### `Problem 1`: Write a program that will give you in hand monthly salary after deduction on CTC - HRA(10%), DA(5%), PF(3%) and taxes deduction as below:\n",
    "\n",
    "> Salary(Lakhs) : Tax(%)\n",
    "\n",
    "*   Below 5 : 0%\n",
    "*   5-10 : 10%\n",
    "*   10-20 : 20%\n",
    "*   aboove 20 : 30%"
   ]
  },
  {
   "cell_type": "code",
   "execution_count": 1,
   "id": "07c173df",
   "metadata": {},
   "outputs": [
    {
     "name": "stdout",
     "output_type": "stream",
     "text": [
      "Enter the ctc salary: 650000\n",
      "In hand Monthly Salary is:  373100.0 lakhs\n"
     ]
    }
   ],
   "source": [
    "ctc=int(input(\"Enter the ctc salary: \"))\n",
    "\n",
    "\n",
    "deduction=(0.10+0.05+0.03)*ctc\n",
    "net_salary=ctc-deduction\n",
    "\n",
    "if ctc<5:\n",
    "    tax=0\n",
    "elif ctc>=5 and ctc<10:\n",
    "    tax=0.10\n",
    "elif ctc>=10 and ctc<20:\n",
    "    tax=0.20\n",
    "else:\n",
    "    tax=0.30\n",
    "    \n",
    "tax_deduction=tax*net_salary\n",
    "net_salary-=tax_deduction\n",
    "\n",
    "print(\"In hand Monthly Salary is: \",net_salary, \"lakhs\")"
   ]
  },
  {
   "cell_type": "markdown",
   "id": "6370f1eb",
   "metadata": {},
   "source": [
    "### `Problem 2`: Write a program that take a user input of three angles and will find out whether it can form a triangle or not."
   ]
  },
  {
   "cell_type": "code",
   "execution_count": 2,
   "id": "76ca0aa7",
   "metadata": {},
   "outputs": [
    {
     "name": "stdout",
     "output_type": "stream",
     "text": [
      "Enter the angle: 90\n",
      "Enter the angle: 45\n",
      "Enter the angle: 45\n",
      "You can form the Triangle\n"
     ]
    }
   ],
   "source": [
    "a=int(input(\"Enter the angle: \"))\n",
    "b=int(input(\"Enter the angle: \"))\n",
    "c=int(input(\"Enter the angle: \"))\n",
    "\n",
    "if a+b+c==180:\n",
    "    print(\"You can form the Triangle\")\n",
    "else:\n",
    "    print(\"You cannot form a Triangle\")"
   ]
  },
  {
   "cell_type": "markdown",
   "id": "8a0996f5",
   "metadata": {},
   "source": [
    "### `Problem 3`: Write a program that will take user input of cost price and selling price and determines whether its a loss or a profit."
   ]
  },
  {
   "cell_type": "code",
   "execution_count": 3,
   "id": "090a8b08",
   "metadata": {},
   "outputs": [
    {
     "name": "stdout",
     "output_type": "stream",
     "text": [
      "Enter the cost_price: 54\n",
      "Enter the cost_price: 87\n",
      "33 Rs Profit\n"
     ]
    }
   ],
   "source": [
    "cost_price=int(input(\"Enter the cost_price: \"))\n",
    "selling_price=int(input(\"Enter the cost_price: \"))\n",
    "\n",
    "if selling_price>cost_price:\n",
    "    profit=selling_price-cost_price\n",
    "    print(profit,\"Rs Profit\")\n",
    "    \n",
    "elif cost_price>selling_price:\n",
    "    loss=cost_price-selling_price\n",
    "    print(loss,\" Rs Loss\")\n",
    "    \n",
    "else:\n",
    "    print(\"No Profit No Loss\")"
   ]
  },
  {
   "cell_type": "markdown",
   "id": "cc6774af",
   "metadata": {},
   "source": [
    "### `Problem 4`: Write a menu-driven program - \n",
    "1. cm to ft \n",
    "2. km to miles \n",
    "3. USD to INR \n",
    "4. exit"
   ]
  },
  {
   "cell_type": "code",
   "execution_count": 8,
   "id": "eb46819d",
   "metadata": {},
   "outputs": [
    {
     "name": "stdout",
     "output_type": "stream",
     "text": [
      "\n",
      "Enter a number:\n",
      "1. cm to ft \n",
      "2. km to miles \n",
      "3. USD to INR \n",
      "4. exit\n",
      "2\n",
      "Enter the km: 10.5\n",
      "cm to ft is:  6.524397495\n"
     ]
    }
   ],
   "source": [
    "menu=input(\"\"\"\n",
    "Enter a number:\n",
    "1. cm to ft \n",
    "2. km to miles \n",
    "3. USD to INR \n",
    "4. exit\n",
    "\"\"\")\n",
    "\n",
    "if menu==\"1\":\n",
    "    cm=float(input(\"Enter the cm: \"))\n",
    "    ft=0.0328084*cm\n",
    "    print(\"cm to ft is: \",ft)\n",
    "    \n",
    "elif menu==\"2\":\n",
    "    km=float(input(\"Enter the km: \"))\n",
    "    miles=0.62137119*km\n",
    "    print(\"km to miles is: \",miles)\n",
    "    \n",
    "elif menu==\"3\":\n",
    "    usd=float(input(\"Enter the USD: \"))\n",
    "    INR=83.36*usd\n",
    "    print(\"USD to INR is: \",INR)    \n",
    "\n",
    "else:\n",
    "    print(\"Hum bahar aagye\")"
   ]
  },
  {
   "cell_type": "markdown",
   "id": "d97f02ae",
   "metadata": {},
   "source": [
    "### `Problem 5` - Exercise 12: Display Fibonacci series up to 10 terms.\n",
    "\n",
    "*Note: The Fibonacci Sequence is a series of numbers. The next number is found by adding up the two numbers before it. The first two numbers are 0 and 1. For example, 0, 1, 1, 2, 3, 5, 8, 13, 21. The next number in this series above is 13+21 = 34*"
   ]
  },
  {
   "cell_type": "code",
   "execution_count": 9,
   "id": "791274a9",
   "metadata": {},
   "outputs": [
    {
     "name": "stdout",
     "output_type": "stream",
     "text": [
      "Fibonacci series up to 10 terms: [0, 1, 1, 2, 3, 5, 8, 13, 21, 34]\n"
     ]
    }
   ],
   "source": [
    "def fibonacci(n):\n",
    "    # Initializing the first two terms of the Fibonacci series\n",
    "    fib_series = [0, 1]\n",
    "\n",
    "    # Generating Fibonacci series up to n terms\n",
    "    for i in range(2, n):\n",
    "        next_term = fib_series[-1] + fib_series[-2]\n",
    "        fib_series.append(next_term)\n",
    "\n",
    "    return fib_series\n",
    "\n",
    "# Displaying Fibonacci series up to 10 terms\n",
    "fib_terms = fibonacci(10)\n",
    "print(\"Fibonacci series up to 10 terms:\", fib_terms)\n"
   ]
  },
  {
   "cell_type": "markdown",
   "id": "61efe3d6",
   "metadata": {},
   "source": [
    "### `Problem 6` - Find the factorial of a given number.\n",
    "\n",
    "Write a program to use the loop to find the factorial of a given number.\n",
    "\n",
    "The factorial (symbol: `!`) means to multiply all whole numbers from the chosen number down to 1.\n",
    "\n",
    "For example: calculate the factorial of 5\n",
    "\n",
    "```bash\n",
    "5! = 5 × 4 × 3 × 2 × 1 = 120\n",
    "```\n",
    "\n",
    "Output: \n",
    "\n",
    "```bash\n",
    "120\n",
    "```"
   ]
  },
  {
   "cell_type": "code",
   "execution_count": 14,
   "id": "a047f9db",
   "metadata": {},
   "outputs": [
    {
     "name": "stdout",
     "output_type": "stream",
     "text": [
      "Enter the number: 5\n",
      "120\n"
     ]
    }
   ],
   "source": [
    "n=int(input(\"Enter the number: \"))\n",
    "fact=1\n",
    "\n",
    "for i in range(1,n+1):\n",
    "    fact=fact*i\n",
    "print(fact)"
   ]
  },
  {
   "cell_type": "markdown",
   "id": "32b87c98",
   "metadata": {},
   "source": [
    "### `Problem 7` - Reverse a given integer number.\n",
    "\n",
    "Example:\n",
    "\n",
    "`Input:`\n",
    "\n",
    "```bash\n",
    "76542\n",
    "```\n",
    "\n",
    "`Output:`\n",
    "\n",
    "```bash\n",
    "24567\n",
    "```"
   ]
  },
  {
   "cell_type": "code",
   "execution_count": 15,
   "id": "695dd72f",
   "metadata": {},
   "outputs": [
    {
     "name": "stdout",
     "output_type": "stream",
     "text": [
      "Enter the number: 123\n",
      "321\n"
     ]
    }
   ],
   "source": [
    "n=int(input(\"Enter the number: \"))\n",
    "\n",
    "reverse_num=str(n)[::-1]\n",
    "print(reverse_num)"
   ]
  },
  {
   "cell_type": "markdown",
   "id": "0cf833a9",
   "metadata": {},
   "source": [
    "### `Problem 8`: Take a user input as integer N. Find out the sum from 1 to N. If any number if divisible by 5, then skip that number. And if the sum is greater than 300, don't need to calculate the sum further more. Print the final result. And don't use for loop to solve this problem.\n",
    "\n",
    "**Example 1:**\n",
    "\n",
    "`Input:`\n",
    "\n",
    "```bash\n",
    "30\n",
    "```\n",
    "\n",
    "`Output:`\n",
    "\n",
    "```bash\n",
    "276\n",
    "```"
   ]
  },
  {
   "cell_type": "code",
   "execution_count": 11,
   "id": "afce3b0c",
   "metadata": {},
   "outputs": [
    {
     "name": "stdout",
     "output_type": "stream",
     "text": [
      "Enter a Number: 30\n",
      "276\n"
     ]
    }
   ],
   "source": [
    "num=int(input(\"Enter a Number: \"))\n",
    "\n",
    "i=1\n",
    "sum=0\n",
    "while i<=num:\n",
    "    if i%5!=0:\n",
    "        sum+=i\n",
    "        if sum>300:\n",
    "            sum-=i\n",
    "            break\n",
    "\n",
    "    i+=1\n",
    "    \n",
    "print(sum)"
   ]
  },
  {
   "cell_type": "markdown",
   "id": "6737f18d",
   "metadata": {},
   "source": [
    "### `Problem 9`: Write a program that keeps on accepting a number from the user until the user enters Zero. Display the sum and average of all the numbers."
   ]
  },
  {
   "cell_type": "code",
   "execution_count": 7,
   "id": "34b72ff5",
   "metadata": {},
   "outputs": [
    {
     "name": "stdout",
     "output_type": "stream",
     "text": [
      "Enter the Number: 1\n",
      "Enter the Number: 1\n",
      "Enter the Number: 1\n",
      "Enter the Number: 0\n",
      "Sum is:  3\n",
      "Avg is:  1\n"
     ]
    }
   ],
   "source": [
    "from statistics import mean \n",
    "\n",
    "sum=0\n",
    "avg=[]\n",
    "while True:\n",
    "    n=int(input(\"Enter the Number: \"))\n",
    "    if n==0:\n",
    "        break\n",
    "    else:\n",
    "        sum+=n\n",
    "        avg.append(n)\n",
    "print(\"Sum is: \",sum)\n",
    "print(\"Avg is: \",mean(avg))"
   ]
  },
  {
   "cell_type": "markdown",
   "id": "0eea368c",
   "metadata": {},
   "source": [
    "### `Problem 10`: Write a program which will find all such numbers which are divisible by 7 but are not a multiple of 5, between 2000 and 3200 (both included). The numbers obtained should be printed in a comma-separated sequence on a single line."
   ]
  },
  {
   "cell_type": "code",
   "execution_count": 10,
   "id": "6f7da439",
   "metadata": {},
   "outputs": [
    {
     "name": "stdout",
     "output_type": "stream",
     "text": [
      "2002,2009,2016,2023,2037,2044,2051,2058,2072,2079,2086,2093,2107,2114,2121,2128,2142,2149,2156,2163,2177,2184,2191,2198,2212,2219,2226,2233,2247,2254,2261,2268,2282,2289,2296,2303,2317,2324,2331,2338,2352,2359,2366,2373,2387,2394,2401,2408,2422,2429,2436,2443,2457,2464,2471,2478,2492,2499,2506,2513,2527,2534,2541,2548,2562,2569,2576,2583,2597,2604,2611,2618,2632,2639,2646,2653,2667,2674,2681,2688,2702,2709,2716,2723,2737,2744,2751,2758,2772,2779,2786,2793,2807,2814,2821,2828,2842,2849,2856,2863,2877,2884,2891,2898,2912,2919,2926,2933,2947,2954,2961,2968,2982,2989,2996,3003,3017,3024,3031,3038,3052,3059,3066,3073,3087,3094,3101,3108,3122,3129,3136,3143,3157,3164,3171,3178,3192,3199,"
     ]
    }
   ],
   "source": [
    "for i in range(2000,3201):\n",
    "    if i%7==0 and i%5!=0:\n",
    "        print(i,end=\",\")"
   ]
  },
  {
   "cell_type": "markdown",
   "id": "201ab9bc",
   "metadata": {},
   "source": [
    "### `Problem 11`: Write a program to print whether a given number is a prime number or not"
   ]
  },
  {
   "cell_type": "code",
   "execution_count": 16,
   "id": "101881f4",
   "metadata": {},
   "outputs": [
    {
     "name": "stdout",
     "output_type": "stream",
     "text": [
      "Enter a number:7\n",
      "7 is a Prime Number\n"
     ]
    }
   ],
   "source": [
    "def isPrime(n):\n",
    "    if n==1:\n",
    "        return 0\n",
    "    i=2\n",
    "    while(i*i<=n):\n",
    "        if n%i==0:\n",
    "            return 0\n",
    "        i+=1\n",
    "        \n",
    "    return 1\n",
    "\n",
    "n=int(input(\"Enter a number:\"))\n",
    "if isPrime(n)==1:\n",
    "    print(n,\"is a Prime Number\")\n",
    "else:\n",
    "    print(\"Not a Prime\")"
   ]
  }
 ],
 "metadata": {
  "kernelspec": {
   "display_name": "Python 3 (ipykernel)",
   "language": "python",
   "name": "python3"
  },
  "language_info": {
   "codemirror_mode": {
    "name": "ipython",
    "version": 3
   },
   "file_extension": ".py",
   "mimetype": "text/x-python",
   "name": "python",
   "nbconvert_exporter": "python",
   "pygments_lexer": "ipython3",
   "version": "3.9.7"
  }
 },
 "nbformat": 4,
 "nbformat_minor": 5
}
