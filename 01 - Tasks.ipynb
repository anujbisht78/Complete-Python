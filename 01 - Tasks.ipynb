{
 "cells": [
  {
   "cell_type": "markdown",
   "id": "94b82d96",
   "metadata": {},
   "source": [
    "### Q1 :- Print the given strings as per stated format.\n",
    "\n",
    "**Given strings**: \n",
    "```\n",
    "\"Data\" \"Science\" \"Mentorship\" \"Program\" \n",
    "\"By\" \"CampusX\"\n",
    "```\n",
    "**Output**: \n",
    "``` \n",
    "Data-Science-Mentorship-Program-started-By-CampusX\n",
    "```"
   ]
  },
  {
   "cell_type": "code",
   "execution_count": 1,
   "id": "90b4dc8f",
   "metadata": {},
   "outputs": [
    {
     "name": "stdout",
     "output_type": "stream",
     "text": [
      "Data-Science-Mentorship-Program-started-By-CampusX\n"
     ]
    }
   ],
   "source": [
    "print(\"Data\"+\"-\"+\"Science\"+\"-\"+\"Mentorship\"+\"-\"+\"Program\"+\"-\"+\"started\"+\"-\"+\"By\"+\"-\"+\"CampusX\")"
   ]
  },
  {
   "cell_type": "markdown",
   "id": "49f87316",
   "metadata": {},
   "source": [
    "### Q2:- Write a program that will convert celsius value to fahrenheit."
   ]
  },
  {
   "cell_type": "code",
   "execution_count": 2,
   "id": "37219bfd",
   "metadata": {},
   "outputs": [
    {
     "name": "stdout",
     "output_type": "stream",
     "text": [
      "Enter a Celcius Value: 1\n",
      "33.8\n"
     ]
    }
   ],
   "source": [
    "cel = int(input(\"Enter a Celcius Value: \"))\n",
    "fah = (cel*1.8) + 32\n",
    "print(fah)"
   ]
  },
  {
   "cell_type": "markdown",
   "id": "5fb7f4eb",
   "metadata": {},
   "source": [
    "### Q3:- Take 2 numbers as input from the user.Write a program to swap the numbers without using any special python syntax."
   ]
  },
  {
   "cell_type": "code",
   "execution_count": 3,
   "id": "bf9fa25e",
   "metadata": {},
   "outputs": [
    {
     "name": "stdout",
     "output_type": "stream",
     "text": [
      "Enter the first number: 5\n",
      "Enter the second number: 4\n",
      "After swapping:\n",
      "First number: 4\n",
      "Second number: 5\n"
     ]
    }
   ],
   "source": [
    "num1 = int(input(\"Enter the first number: \"))\n",
    "num2 = int(input(\"Enter the second number: \"))\n",
    "\n",
    "temp = num1\n",
    "num1 = num2\n",
    "num2 = temp\n",
    "\n",
    "# Displaying the swapped numbers\n",
    "print(\"After swapping:\")\n",
    "print(\"First number:\", num1)\n",
    "print(\"Second number:\", num2)"
   ]
  },
  {
   "cell_type": "markdown",
   "id": "dd93c437",
   "metadata": {},
   "source": [
    "### Q4:- Write a program to find the euclidean distance between two coordinates.Take both the coordinates from the user as input."
   ]
  },
  {
   "cell_type": "code",
   "execution_count": 4,
   "id": "4d88f7d2",
   "metadata": {},
   "outputs": [
    {
     "name": "stdout",
     "output_type": "stream",
     "text": [
      "Enter the x1 value: 1\n",
      "Enter the y1 value: 2\n",
      "Enter the x2 value: 4\n",
      "Enter the y2 value: 5\n",
      "4.242640687119285\n"
     ]
    }
   ],
   "source": [
    "import math\n",
    "\n",
    "x1 = int(input(\"Enter the x1 value: \"))\n",
    "y1 = int(input(\"Enter the y1 value: \"))\n",
    "x2 = int(input(\"Enter the x2 value: \"))\n",
    "y2 = int(input(\"Enter the y2 value: \"))\n",
    "\n",
    "eud = math.sqrt((x2-x1)**2 + (y2-y1)**2)\n",
    "print(eud)"
   ]
  },
  {
   "cell_type": "markdown",
   "id": "d2ff5243",
   "metadata": {},
   "source": [
    "### Q5:- Write a program to find the simple interest when the value of principle,rate of interest and time period is provided by the user."
   ]
  },
  {
   "cell_type": "code",
   "execution_count": 5,
   "id": "97eba2a2",
   "metadata": {},
   "outputs": [
    {
     "name": "stdout",
     "output_type": "stream",
     "text": [
      "Enter the principal amount: 100\n",
      "Enter the rate of interest (in percentage): 50\n",
      "Enter the time period (in years): 2\n",
      "The simple interest for the given values is: 100.0\n"
     ]
    }
   ],
   "source": [
    "principal = float(input(\"Enter the principal amount: \"))\n",
    "rate = float(input(\"Enter the rate of interest (in percentage): \"))\n",
    "time = float(input(\"Enter the time period (in years): \"))\n",
    "\n",
    "# Calculating simple interest\n",
    "simple_interest = (principal * rate * time) / 100\n",
    "\n",
    "# Displaying the result\n",
    "print(\"The simple interest for the given values is:\", simple_interest)"
   ]
  },
  {
   "cell_type": "markdown",
   "id": "1706d2a0",
   "metadata": {},
   "source": [
    "### Q6:- Write a program that will tell the number of dogs and chicken are there when the user will provide the value of total heads and legs.\n",
    "\n",
    "For example:\n",
    "Input:\n",
    "heads -> 4\n",
    "legs -> 12\n",
    "<br>\n",
    "Output:\n",
    "dogs -> 2\n",
    "chicken -> 2"
   ]
  },
  {
   "cell_type": "code",
   "execution_count": 6,
   "id": "883d3a78",
   "metadata": {},
   "outputs": [
    {
     "name": "stdout",
     "output_type": "stream",
     "text": [
      "Enter the total number of heads: 4\n",
      "Enter the total number of legs: 12\n",
      "Number of dogs: 2\n",
      "Number of chickens: 2\n"
     ]
    }
   ],
   "source": [
    "def calculate_animals(heads, legs):\n",
    "    # Assuming dogs have 4 legs and chickens have 2 legs\n",
    "    # Let x be the number of dogs and y be the number of chickens\n",
    "    # Equation 1: x + y = heads (total number of heads)\n",
    "    # Equation 2: 4*x + 2*y = legs (total number of legs)\n",
    "\n",
    "    # Solving the equations\n",
    "    # Multiplying Equation 1 by 2 to eliminate y\n",
    "    # 2*(x + y) = 2*heads\n",
    "    # 2x + 2y = 2*heads\n",
    "    # Subtracting Equation 2 from the above equation\n",
    "    # 2x + 2y - (4x + 2y) = 2*heads - legs\n",
    "    # -2x = 2*heads - legs\n",
    "    # x = (2*heads - legs) / -2\n",
    "\n",
    "    # Finding the number of dogs\n",
    "    dogs = (2 * heads - legs) / -2\n",
    "    # Finding the number of chickens\n",
    "    chickens = heads - dogs\n",
    "\n",
    "    return int(dogs), int(chickens)\n",
    "\n",
    "# Taking input from the user\n",
    "total_heads = int(input(\"Enter the total number of heads: \"))\n",
    "total_legs = int(input(\"Enter the total number of legs: \"))\n",
    "\n",
    "# Calculating the number of dogs and chickens\n",
    "dogs, chickens = calculate_animals(total_heads, total_legs)\n",
    "\n",
    "# Displaying the result\n",
    "print(\"Number of dogs:\", dogs)\n",
    "print(\"Number of chickens:\", chickens)\n"
   ]
  },
  {
   "cell_type": "markdown",
   "id": "e1f90891",
   "metadata": {},
   "source": [
    "### Q7:- Write a program to find the sum of squares of first n natural numbers where n will be provided by the user."
   ]
  },
  {
   "cell_type": "code",
   "execution_count": 7,
   "id": "a8239ff0",
   "metadata": {},
   "outputs": [
    {
     "name": "stdout",
     "output_type": "stream",
     "text": [
      "Enter the n Natural Numbers: 5\n",
      "55\n"
     ]
    }
   ],
   "source": [
    "num = int(input(\"Enter the n Natural Numbers: \"))\n",
    "\n",
    "sum = 0\n",
    "i=1\n",
    "while i<=num:\n",
    "    sum = sum + (i*i)\n",
    "    i+=1\n",
    "    \n",
    "print(sum)"
   ]
  },
  {
   "cell_type": "markdown",
   "id": "02b8602f",
   "metadata": {},
   "source": [
    "### Q8:- Given the first 2 terms of an Arithmetic Series.Find the Nth term of the series. Assume all inputs are provided by the user."
   ]
  },
  {
   "cell_type": "code",
   "execution_count": 8,
   "id": "6295a593",
   "metadata": {},
   "outputs": [
    {
     "name": "stdout",
     "output_type": "stream",
     "text": [
      "Enter the 1st term: 1\n",
      "Enter the 2nd term: 5\n",
      "Enter the value of N for which you want to find the Nth term: 12\n",
      "45\n"
     ]
    }
   ],
   "source": [
    "first_term=int(input(\"Enter the 1st term: \"))\n",
    "second_term=int(input(\"Enter the 2nd term: \"))\n",
    "n=int(input(\"Enter the value of N for which you want to find the Nth term: \"))\n",
    "\n",
    "common_diff = second_term - first_term \n",
    "\n",
    "nth_term = first_term + ((n-1)*common_diff)\n",
    "\n",
    "print(nth_term)"
   ]
  },
  {
   "cell_type": "markdown",
   "id": "e9a5770a",
   "metadata": {},
   "source": [
    " ### Q9:- Given 2 fractions, find the sum of those 2 fractions.Take the numerator and denominator values of the fractions from the user."
   ]
  },
  {
   "cell_type": "code",
   "execution_count": 9,
   "id": "bce677b3",
   "metadata": {},
   "outputs": [
    {
     "name": "stdout",
     "output_type": "stream",
     "text": [
      "Enter num1: 1\n",
      "Enter num2: 1\n",
      "Enter deno1: 2\n",
      "Enter deno2: 2\n"
     ]
    },
    {
     "data": {
      "text/plain": [
       "1.0"
      ]
     },
     "execution_count": 9,
     "metadata": {},
     "output_type": "execute_result"
    }
   ],
   "source": [
    "num1 = int(input(\"Enter num1: \"))\n",
    "num2 = int(input(\"Enter num2: \"))\n",
    "deno1 = int(input(\"Enter deno1: \"))\n",
    "deno2 = int(input(\"Enter deno2: \"))\n",
    "\n",
    "numerator = (num1 * deno2) + (num2 * deno1)\n",
    "denominator = deno1 * deno2\n",
    "\n",
    "result = numerator / denominator\n",
    "\n",
    "result"
   ]
  },
  {
   "cell_type": "markdown",
   "id": "75b1fd6b",
   "metadata": {},
   "source": [
    "### Q10:- Given the height, width and breadth of a milk tank, you have to find out how many glasses of milk can be obtained? Assume all the inputs are provided by the user.\n",
    "\n",
    "\n",
    "\n",
    "Input:<br>\n",
    "Dimensions of the milk tank<br>\n",
    "H = 20cm, L = 20cm, B = 20cm\n",
    "<br><br>\n",
    "Dimensions of the glass<br>\n",
    "h = 3cm, r = 1cm"
   ]
  },
  {
   "cell_type": "code",
   "execution_count": 10,
   "id": "debe1826",
   "metadata": {},
   "outputs": [
    {
     "name": "stdout",
     "output_type": "stream",
     "text": [
      "Enter the length: 20\n",
      "Enter the breath: 20\n",
      "Enter the height: 20\n",
      "Enter the height of glass: 3\n",
      "Enter the radius: 1\n"
     ]
    },
    {
     "data": {
      "text/plain": [
       "849.2569002123142"
      ]
     },
     "execution_count": 10,
     "metadata": {},
     "output_type": "execute_result"
    }
   ],
   "source": [
    "l = int(input(\"Enter the length: \"))\n",
    "b = int(input(\"Enter the breath: \"))\n",
    "h = int(input(\"Enter the height: \"))\n",
    "glass_h = int(input(\"Enter the height of glass: \"))\n",
    "r = int(input(\"Enter the radius: \"))\n",
    "area_of_tank = l * b * h\n",
    "\n",
    "vol_of_glass = 3.14 * (r*r) * glass_h\n",
    "\n",
    "ans = area_of_tank/vol_of_glass\n",
    "ans"
   ]
  }
 ],
 "metadata": {
  "kernelspec": {
   "display_name": "Python 3 (ipykernel)",
   "language": "python",
   "name": "python3"
  },
  "language_info": {
   "codemirror_mode": {
    "name": "ipython",
    "version": 3
   },
   "file_extension": ".py",
   "mimetype": "text/x-python",
   "name": "python",
   "nbconvert_exporter": "python",
   "pygments_lexer": "ipython3",
   "version": "3.9.7"
  }
 },
 "nbformat": 4,
 "nbformat_minor": 5
}
